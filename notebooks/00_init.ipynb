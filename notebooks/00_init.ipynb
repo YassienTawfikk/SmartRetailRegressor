{
 "cells": [
  {
   "metadata": {},
   "cell_type": "markdown",
   "source": "# Initialization",
   "id": "ceffe61baa2245a1"
  },
  {
   "metadata": {},
   "cell_type": "markdown",
   "source": "## Create All Directories",
   "id": "f38b06a69fedd1b4"
  },
  {
   "metadata": {
    "collapsed": true,
    "ExecuteTime": {
     "end_time": "2025-08-02T12:47:09.795496Z",
     "start_time": "2025-08-02T12:47:09.790168Z"
    }
   },
   "cell_type": "code",
   "source": [
    "from src.__00__paths import data_dir_list, output_dir_list\n",
    "\n",
    "for path in data_dir_list + output_dir_list:\n",
    "    path.mkdir(parents=True, exist_ok=True)\n",
    "    print(f\"Created directory: {'/'.join(path.parts[-2:])}\")"
   ],
   "id": "initial_id",
   "outputs": [
    {
     "name": "stdout",
     "output_type": "stream",
     "text": [
      "Created directory: data/raw\n",
      "Created directory: data/processed\n",
      "Created directory: data/curated\n",
      "Created directory: output/models\n",
      "Created directory: output/figures\n",
      "Created directory: output/docs\n"
     ]
    }
   ],
   "execution_count": 2
  }
 ],
 "metadata": {
  "kernelspec": {
   "display_name": "Python 3",
   "language": "python",
   "name": "python3"
  },
  "language_info": {
   "codemirror_mode": {
    "name": "ipython",
    "version": 2
   },
   "file_extension": ".py",
   "mimetype": "text/x-python",
   "name": "python",
   "nbconvert_exporter": "python",
   "pygments_lexer": "ipython2",
   "version": "2.7.6"
  }
 },
 "nbformat": 4,
 "nbformat_minor": 5
}
