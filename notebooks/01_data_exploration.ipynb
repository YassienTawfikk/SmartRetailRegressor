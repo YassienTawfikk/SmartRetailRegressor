{
 "cells": [
  {
   "metadata": {},
   "cell_type": "markdown",
   "source": "# Data Exploration - Setup - Splitting",
   "id": "13da2bd866d417a7"
  },
  {
   "metadata": {},
   "cell_type": "markdown",
   "source": "## Imports",
   "id": "b3f173891e3d6920"
  },
  {
   "cell_type": "code",
   "id": "initial_id",
   "metadata": {
    "collapsed": true,
    "ExecuteTime": {
     "end_time": "2025-08-02T14:07:33.389858Z",
     "start_time": "2025-08-02T14:07:33.386691Z"
    }
   },
   "source": [
    "# Data Handling\n",
    "import pandas as pd\n",
    "import numpy as np\n",
    "from sklearn.model_selection import train_test_split\n",
    "\n",
    "# Visualization\n",
    "import matplotlib.pyplot as plt\n",
    "\n",
    "# Paths\n",
    "from src.__00__paths import curated_data_dir, raw_data_dir, processed_data_dir\n",
    "import shutil\n",
    "from pathlib import Path\n",
    "\n",
    "# Datasets Source\n",
    "import kagglehub"
   ],
   "outputs": [],
   "execution_count": 7
  },
  {
   "metadata": {},
   "cell_type": "markdown",
   "source": "## Download Walmart Sales Forecast Data (Kaggle)",
   "id": "d961fc189a1684b8"
  },
  {
   "metadata": {
    "ExecuteTime": {
     "end_time": "2025-08-02T14:11:14.227028Z",
     "start_time": "2025-08-02T14:11:14.223209Z"
    }
   },
   "cell_type": "code",
   "source": [
    "# Data files to check\n",
    "data_items = [\n",
    "    raw_data_dir / \"features.csv\",\n",
    "    raw_data_dir / \"stores.csv\",\n",
    "    raw_data_dir / \"test.csv\",\n",
    "    raw_data_dir / \"train.csv\",\n",
    "]\n",
    "\n",
    "# Check and download\n",
    "if all(item.exists() for item in data_items):\n",
    "    print(\"Dataset are already downloaded.\")\n",
    "else:\n",
    "    print(\"Downloading data...\")\n",
    "    dataset_path = Path(kagglehub.dataset_download(\"aslanahmedov/walmart-sales-forecast\"))\n",
    "\n",
    "    if not dataset_path.exists():\n",
    "        raise FileNotFoundError(\"Dataset not found.\")\n",
    "\n",
    "    # Copy all files from KaggleHub Cache to `data/raw`\n",
    "    for item in dataset_path.iterdir():\n",
    "        target = raw_data_dir / item.name\n",
    "        shutil.copy2(item, target)\n",
    "    print(\"Dataset successfully downloaded.\")"
   ],
   "id": "e5da0fac796c44f8",
   "outputs": [
    {
     "name": "stdout",
     "output_type": "stream",
     "text": [
      "Dataset are already downloaded.\n"
     ]
    }
   ],
   "execution_count": 11
  }
 ],
 "metadata": {
  "kernelspec": {
   "display_name": "Python 3",
   "language": "python",
   "name": "python3"
  },
  "language_info": {
   "codemirror_mode": {
    "name": "ipython",
    "version": 2
   },
   "file_extension": ".py",
   "mimetype": "text/x-python",
   "name": "python",
   "nbconvert_exporter": "python",
   "pygments_lexer": "ipython2",
   "version": "2.7.6"
  }
 },
 "nbformat": 4,
 "nbformat_minor": 5
}
